{
 "cells": [
  {
   "cell_type": "markdown",
   "metadata": {},
   "source": [
    "Set key-values pairs in dictinary from text file."
   ]
  },
  {
   "cell_type": "code",
   "execution_count": 5,
   "metadata": {},
   "outputs": [
    {
     "name": "stdout",
     "output_type": "stream",
     "text": [
      "{'call name': ' something', 'dump path': ' stuff', 'google way only': ' everything and more', 'code file': ' all', 'folder location': ' here'}\n"
     ]
    }
   ],
   "source": [
    "#initializes dictinary\n",
    "myDict = {}\n",
    "\n",
    "#opens test file and rewrites it as dictinary\n",
    "#ignores everything after '*header'\n",
    "with open(\"key_value_pairs.txt\") as f:\n",
    "    for line in iter(lambda: f.readline().rstrip(), '*header'):\n",
    "        key, value = line.rstrip(\"\\n\").replace(\"*description \", \"\").split(\":\")\n",
    "        myDict[key] = value\n",
    "\n",
    "print(myDict)\n"
   ]
  },
  {
   "cell_type": "markdown",
   "metadata": {},
   "source": [
    "User writes keys in tupple. Run through loop. Output will show which key is present ('Y') or missing ('N'), total number of keys, and number of missing and existing keys."
   ]
  },
  {
   "cell_type": "code",
   "execution_count": 6,
   "metadata": {},
   "outputs": [
    {
     "name": "stdout",
     "output_type": "stream",
     "text": [
      "Y  dump path\n",
      "N  goooood\n",
      "\n",
      "Total keys:  2\n",
      "Total present:  1\n",
      "Total not present  1\n"
     ]
    }
   ],
   "source": [
    "#list the word to search for\n",
    "list_key = ('dump path', 'goooood')\n",
    "\n",
    "\n",
    "def counter_keys(dict, search):\n",
    "    #initializes counter\n",
    "    i = 0\n",
    "\n",
    "    #loop for checking keys\n",
    "    for key in search:\n",
    "        if key in dict.keys():\n",
    "            i += 1\n",
    "            print('Y ', key)\n",
    "        else:\n",
    "            print('N ', key)\n",
    "\n",
    "    #print results\n",
    "    print('\\nTotal keys: ', len(search))\n",
    "    print('Total present: ', i)\n",
    "    print('Total not present ', len(search)-i)\n",
    "\n",
    "counter_keys(dict=myDict, search=list_key)\n"
   ]
  },
  {
   "cell_type": "code",
   "execution_count": 4,
   "metadata": {},
   "outputs": [
    {
     "name": "stdout",
     "output_type": "stream",
     "text": [
      "{'call name': ' something', 'dump path': ' stuff', 'google way only': ' everything and more', 'code file': ' all', 'folder location': ' here'}\n"
     ]
    }
   ],
   "source": [
    "\n"
   ]
  }
 ],
 "metadata": {
  "kernelspec": {
   "display_name": "Python 3.8.5 64-bit ('base': conda)",
   "name": "python385jvsc74a57bd008f3f458660fce00c4e9a03ef8a038896277f9ff93c2660d371889bd57491ba2"
  },
  "language_info": {
   "codemirror_mode": {
    "name": "ipython",
    "version": 3
   },
   "file_extension": ".py",
   "mimetype": "text/x-python",
   "name": "python",
   "nbconvert_exporter": "python",
   "pygments_lexer": "ipython3",
   "version": "3.8.5"
  },
  "orig_nbformat": 2
 },
 "nbformat": 4,
 "nbformat_minor": 2
}