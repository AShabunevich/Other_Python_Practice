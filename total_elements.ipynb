{
 "cells": [
  {
   "cell_type": "markdown",
   "metadata": {},
   "source": [
    "1. use data after 'date'.\n",
    "2. get rid of first column\n",
    "3. get rid of white space\n",
    "4. count elements"
   ]
  },
  {
   "cell_type": "code",
   "execution_count": 143,
   "metadata": {},
   "outputs": [
    {
     "name": "stdout",
     "output_type": "stream",
     "text": [
      "['12345678 12345678 12345678 12345678', '00999000 09099990 12567544 20950978', '87555677 45554332 88765545 4345']\n"
     ]
    }
   ],
   "source": [
    "with open('total_number_elements.txt', 'r') as file:\n",
    "    data = file.read().replace('    ', ' ')\n",
    "    data = data.split('date')[1]\n",
    "    data = data.split('\\n')\n",
    "    data = data[1:-1]\n",
    "    print(data)\n"
   ]
  },
  {
   "cell_type": "code",
   "execution_count": 122,
   "metadata": {},
   "outputs": [
    {
     "name": "stdout",
     "output_type": "stream",
     "text": [
      "[['12345678', '12345678', '12345678', '12345678'], ['00999000', '09099990', '12567544', '20950978'], ['87555677', '45554332', '88765545', '4345']]\n"
     ]
    }
   ],
   "source": [
    "format_data = []\n",
    "\n",
    "for i in range(len(data)):\n",
    "    format_data.append(data[i].split(' '))\n",
    "\n",
    "print(format_data)"
   ]
  },
  {
   "cell_type": "code",
   "execution_count": 123,
   "metadata": {},
   "outputs": [
    {
     "name": "stdout",
     "output_type": "stream",
     "text": [
      "[['12345678', '12345678', '12345678'], ['09099990', '12567544', '20950978'], ['45554332', '88765545', '4345']]\n"
     ]
    }
   ],
   "source": [
    "new_array = []\n",
    "\n",
    "for j in format_data:\n",
    "    del j[0]\n",
    "\n",
    "print(format_data)\n"
   ]
  },
  {
   "cell_type": "code",
   "execution_count": 142,
   "metadata": {},
   "outputs": [
    {
     "name": "stdout",
     "output_type": "stream",
     "text": [
      "34\n"
     ]
    }
   ],
   "source": [
    "sum_up = 0\n",
    "\n",
    "for i in range(len(format_data)):\n",
    "    for j in range(len(format_data[i])):\n",
    "        length = len(format_data[i][j])\n",
    "        sum_up += length\n",
    "\n",
    "print(int(sum_up/2))"
   ]
  },
  {
   "cell_type": "markdown",
   "metadata": {},
   "source": [
    "Put everything in one function:"
   ]
  },
  {
   "cell_type": "code",
   "execution_count": 146,
   "metadata": {},
   "outputs": [
    {
     "name": "stdout",
     "output_type": "stream",
     "text": [
      "34\n"
     ]
    }
   ],
   "source": [
    "def formatted(a):\n",
    "    format_data = []\n",
    "    new_array = []\n",
    "\n",
    "    for i in range(len(a)):\n",
    "        format_data.append(a[i].split(' '))\n",
    "\n",
    "    for j in format_data:\n",
    "        del j[0]\n",
    "\n",
    "    sum_up = 0\n",
    "\n",
    "    for i in range(len(format_data)):\n",
    "        for j in range(len(format_data[i])):\n",
    "            length = len(format_data[i][j])\n",
    "            sum_up += length\n",
    "\n",
    "    return int(sum_up/2)\n",
    "\n",
    "print(formatted(data))\n"
   ]
  }
 ],
 "metadata": {
  "kernelspec": {
   "display_name": "Python 3.8.5 64-bit ('base': conda)",
   "name": "python385jvsc74a57bd008f3f458660fce00c4e9a03ef8a038896277f9ff93c2660d371889bd57491ba2"
  },
  "language_info": {
   "codemirror_mode": {
    "name": "ipython",
    "version": 3
   },
   "file_extension": ".py",
   "mimetype": "text/x-python",
   "name": "python",
   "nbconvert_exporter": "python",
   "pygments_lexer": "ipython3",
   "version": "3.8.5"
  },
  "orig_nbformat": 2
 },
 "nbformat": 4,
 "nbformat_minor": 2
}