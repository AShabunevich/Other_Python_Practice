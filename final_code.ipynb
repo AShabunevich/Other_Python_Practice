{
 "cells": [
  {
   "cell_type": "markdown",
   "metadata": {},
   "source": [
    "Clean up data and convert into two arrays to compare elements in both arrays."
   ]
  },
  {
   "cell_type": "code",
   "execution_count": 1,
   "metadata": {},
   "outputs": [],
   "source": [
    "#clean up 'compare.txt' file to create single values of each row\n",
    "def clean_compare_data2(file_name):\n",
    "\n",
    "    with open(file_name, 'r') as file:\n",
    "        data = file.read().replace(':', '')\n",
    "        data = data.replace(' ', '')\n",
    "        data = data.split('\\n')\n",
    "        data = data[:-1]\n",
    "    \n",
    "    data2 = []\n",
    "\n",
    "    #eliminate weird symbols at the end of each row\n",
    "    for i in data:\n",
    "        data2.append(i[:-16])\n",
    "\n",
    "    return data2\n",
    "\n",
    "\n",
    "#clan up 'total_number_elements.txt' file to create single values of each row\n",
    "def clean_compare_data1(file_name):\n",
    "    with open(file_name, 'r') as file:\n",
    "        data1 = file.read().replace('    ', ' ')\n",
    "        data1 = data1.split('date')[1]\n",
    "        data1 = data1.replace(' ', '')\n",
    "        data1 = data1.split('\\n')\n",
    "        data1 = data1[1:-1]\n",
    "\n",
    "    return data1\n",
    "\n",
    "\n",
    "#check results\n",
    "#file1 = clean_compare_data1(file_name='total_number_elements.txt')\n",
    "#file2 = clean_compare_data2(file_name='compare.txt')\n",
    "#print(file2)\n",
    "#print(file1)\n"
   ]
  },
  {
   "cell_type": "markdown",
   "metadata": {},
   "source": [
    "Convert `'total_number_elements.txt'` file to appropriate array for calculating elements in pairs."
   ]
  },
  {
   "cell_type": "code",
   "execution_count": 2,
   "metadata": {},
   "outputs": [],
   "source": [
    "def clean_total_elements_data(file_name):\n",
    "    with open(file_name, 'r') as file:\n",
    "        data = file.read().replace('    ', ' ')\n",
    "        data = data.split('date')[1]\n",
    "        data = data.split('\\n')\n",
    "        data = data[1:-1]\n",
    "    \n",
    "    data3 = []\n",
    "\n",
    "    for i in range(len(data)):\n",
    "        data3.append(data[i].split(' '))\n",
    "\n",
    "    for j in data3:\n",
    "        del j[0]\n",
    "\n",
    "    return data3\n",
    "\n",
    "#file3 = clean_total_elements_data('total_number_elements.txt')\n",
    "#print(file3)\n"
   ]
  },
  {
   "cell_type": "markdown",
   "metadata": {},
   "source": [
    "Compare two arrays."
   ]
  },
  {
   "cell_type": "code",
   "execution_count": 3,
   "metadata": {},
   "outputs": [],
   "source": [
    "def compare_arrays(array1, array2):\n",
    "\n",
    "    list_diff = []\n",
    "\n",
    "    for i in array2:\n",
    "        if i not in array1:\n",
    "            list_diff.append(i[:8])\n",
    "    \n",
    "    return list_diff\n",
    "\n",
    "#list_diff = compare_arrays(array1=file1, array2=file2)\n",
    "#print(list_diff)"
   ]
  },
  {
   "cell_type": "markdown",
   "metadata": {},
   "source": [
    "Main loop that decides to give missing key, or calculate # of elements"
   ]
  },
  {
   "cell_type": "code",
   "execution_count": 4,
   "metadata": {},
   "outputs": [],
   "source": [
    "def main_loop(list_diff, file3):\n",
    "    sum_up = 0\n",
    "\n",
    "    if not list_diff:\n",
    "        for i in range(len(file3)):\n",
    "            for j in range(len(file3[i])):\n",
    "                length = len(file3[i][j])\n",
    "                sum_up += length\n",
    "        return int(sum_up/2)\n",
    "    else:\n",
    "        return list_diff\n",
    "\n",
    "#print(main_loop(list_diff, file3))\n"
   ]
  },
  {
   "cell_type": "code",
   "execution_count": 7,
   "metadata": {},
   "outputs": [
    {
     "name": "stdout",
     "output_type": "stream",
     "text": [
      "['87555677']\n"
     ]
    }
   ],
   "source": [
    "file1 = clean_compare_data1(file_name='total_number_elements.txt')\n",
    "file2 = clean_compare_data2(file_name='compare.txt')\n",
    "file3 = clean_total_elements_data('total_number_elements.txt')\n",
    "list_diff = compare_arrays(array1=file1, array2=file2)\n",
    "main_function = main_loop(list_diff=list_diff, file3=file3)\n",
    "\n",
    "print(main_function)"
   ]
  }
 ],
 "metadata": {
  "kernelspec": {
   "display_name": "Python 3.8.5 64-bit ('base': conda)",
   "name": "python385jvsc74a57bd008f3f458660fce00c4e9a03ef8a038896277f9ff93c2660d371889bd57491ba2"
  },
  "language_info": {
   "codemirror_mode": {
    "name": "ipython",
    "version": 3
   },
   "file_extension": ".py",
   "mimetype": "text/x-python",
   "name": "python",
   "nbconvert_exporter": "python",
   "pygments_lexer": "ipython3",
   "version": "3.8.5"
  },
  "orig_nbformat": 2
 },
 "nbformat": 4,
 "nbformat_minor": 2
}