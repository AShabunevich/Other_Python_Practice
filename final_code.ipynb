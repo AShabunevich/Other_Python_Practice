{
 "cells": [
  {
   "cell_type": "markdown",
   "metadata": {},
   "source": [
    "Clean up data and convert into two arrays to compare elements in both arrays."
   ]
  },
  {
   "cell_type": "code",
   "execution_count": 1,
   "metadata": {},
   "outputs": [],
   "source": [
    "#clean up 'compare.txt' file to create single values of each row\n",
    "def clean_compare_data2(file_name):\n",
    "\n",
    "    with open(file_name, 'r') as file:\n",
    "        data = file.read().replace(':', '')\n",
    "        data = data.replace(' ', '')\n",
    "        data = data.split('\\n')\n",
    "        data = data[:-1]\n",
    "    \n",
    "    data2 = []\n",
    "\n",
    "    #eliminate weird symbols at the end of each row\n",
    "    for i in data:\n",
    "        data2.append(i[:-16])\n",
    "\n",
    "    return data2\n",
    "\n",
    "\n",
    "#clan up 'total_number_elements.txt' file to create single values of each row\n",
    "def clean_compare_data1(file_name):\n",
    "    with open(file_name, 'r') as file:\n",
    "        data1 = file.read().replace('    ', ' ')\n",
    "        data1 = data1.split('date')[1]\n",
    "        data1 = data1.replace(' ', '')\n",
    "        data1 = data1.split('\\n')\n",
    "        data1 = data1[1:-1]\n",
    "\n",
    "    return data1\n",
    "\n",
    "\n",
    "#check results\n",
    "#file1 = clean_compare_data1(file_name='total_number_elements.txt')\n",
    "#file2 = clean_compare_data2(file_name='compare.txt')\n",
    "#print(file2)\n",
    "#print(file1)\n"
   ]
  },
  {
   "cell_type": "markdown",
   "metadata": {},
   "source": [
    "Convert `'total_number_elements.txt'` file to appropriate array for calculating elements in pairs."
   ]
  },
  {
   "cell_type": "code",
   "execution_count": 2,
   "metadata": {},
   "outputs": [],
   "source": [
    "def clean_total_elements_data(file_name):\n",
    "    with open(file_name, 'r') as file:\n",
    "        data = file.read().replace('    ', ' ')\n",
    "        data = data.split('date')[1]\n",
    "        data = data.split('\\n')\n",
    "        data = data[1:-1]\n",
    "    \n",
    "    data3 = []\n",
    "\n",
    "    for i in range(len(data)):\n",
    "        data3.append(data[i].split(' '))\n",
    "\n",
    "    for j in data3:\n",
    "        del j[0]\n",
    "\n",
    "    return data3\n",
    "\n",
    "#file3 = clean_total_elements_data('total_number_elements.txt')\n",
    "#print(file3)\n"
   ]
  },
  {
   "cell_type": "markdown",
   "metadata": {},
   "source": [
    "Creates key-value dictinary from file name 'total_number_elements.txt'"
   ]
  },
  {
   "cell_type": "code",
   "execution_count": 3,
   "metadata": {},
   "outputs": [],
   "source": [
    "def clean_for_dict(file_name):\n",
    "    myDict={}\n",
    "\n",
    "    #create dictinary with key-value pairs\n",
    "    with open(file_name) as file:\n",
    "        for line in iter(lambda: file.readline().rstrip(), '*elements: 68/2=34'):\n",
    "            key, value = line.rstrip(\"\\n\").replace(\n",
    "                \"*description \", \"\").split(\":\")\n",
    "            myDict[key] = value\n",
    "\n",
    "    return myDict\n",
    "\n",
    "#file4 = clean_for_dict(file_name='total_number_elements.txt')\n",
    "#print(file4)\n"
   ]
  },
  {
   "cell_type": "markdown",
   "metadata": {},
   "source": [
    "Checks which key is missing."
   ]
  },
  {
   "cell_type": "code",
   "execution_count": 32,
   "metadata": {},
   "outputs": [],
   "source": [
    "def check_keys(dict):\n",
    "    #list keys to check if they exist, must be more than two\n",
    "    list_key = ('dump path', 'goooood')\n",
    "    print('Check keys: ', list_key)\n",
    "    \n",
    "    #initializes counter\n",
    "    i = 0\n",
    "\n",
    "    #loop for checking keys\n",
    "    for key in list_key:\n",
    "        if key in dict.keys():\n",
    "            i += 1\n",
    "            print('Y ', key)\n",
    "        else:\n",
    "            print('N ', key)\n",
    "\n",
    "    #print results\n",
    "    print('Total keys: ', len(list_key))\n",
    "    print('Present keys: ', i)\n",
    "    print('Absent keys: ', len(list_key)-i)\n",
    "\n",
    "#check_keys(dict=file4)\n"
   ]
  },
  {
   "cell_type": "markdown",
   "metadata": {},
   "source": [
    "Compare two arrays."
   ]
  },
  {
   "cell_type": "code",
   "execution_count": 5,
   "metadata": {},
   "outputs": [],
   "source": [
    "def compare_arrays(array1, array2):\n",
    "\n",
    "    list_diff = []\n",
    "\n",
    "    for i in array2:\n",
    "        if i not in array1:\n",
    "            list_diff.append(i[:8])\n",
    "    \n",
    "    return list_diff\n",
    "\n",
    "#list_diff = compare_arrays(array1=file1, array2=file2)\n",
    "#print(list_diff)"
   ]
  },
  {
   "cell_type": "markdown",
   "metadata": {},
   "source": [
    "Main loop that decides to give missing key, or calculate # of elements"
   ]
  },
  {
   "cell_type": "code",
   "execution_count": 6,
   "metadata": {},
   "outputs": [],
   "source": [
    "def main_loop(list_diff, file3):\n",
    "    sum_up = 0\n",
    "\n",
    "    #if 'list_diff' is empty, claculate sum\n",
    "    if not list_diff:\n",
    "        for i in range(len(file3)):\n",
    "            for j in range(len(file3[i])):\n",
    "                length = len(file3[i][j])\n",
    "                sum_up += length\n",
    "        return int(sum_up/2)\n",
    "    #if 'list_diff' is not empty, print key\n",
    "    else:\n",
    "        return list_diff\n",
    "\n",
    "#print(main_loop(list_diff, file3))\n"
   ]
  },
  {
   "cell_type": "markdown",
   "metadata": {},
   "source": [
    "All functions together."
   ]
  },
  {
   "cell_type": "code",
   "execution_count": 33,
   "metadata": {},
   "outputs": [
    {
     "name": "stdout",
     "output_type": "stream",
     "text": [
      "Number of bites:  34 \n",
      "\n",
      "Check keys:  ('dump path', 'goooood')\n",
      "Y  dump path\n",
      "N  goooood\n",
      "Total keys:  2\n",
      "Present keys:  1\n",
      "Absent keys:  1\n"
     ]
    }
   ],
   "source": [
    "file1 = clean_compare_data1(file_name='total_number_elements.txt')\n",
    "file2 = clean_compare_data2(file_name='compare.txt')\n",
    "file3 = clean_total_elements_data('total_number_elements.txt')\n",
    "list_diff = compare_arrays(array1=file1, array2=file2)\n",
    "main_function = main_loop(list_diff=list_diff, file3=file3)\n",
    "print('Number of bites: ', main_function, '\\n')\n",
    "file4 = clean_for_dict(file_name='total_number_elements.txt')\n",
    "check_keys(dict=file4)\n"
   ]
  }
 ],
 "metadata": {
  "kernelspec": {
   "display_name": "Python 3.8.5 64-bit ('base': conda)",
   "name": "python385jvsc74a57bd008f3f458660fce00c4e9a03ef8a038896277f9ff93c2660d371889bd57491ba2"
  },
  "language_info": {
   "codemirror_mode": {
    "name": "ipython",
    "version": 3
   },
   "file_extension": ".py",
   "mimetype": "text/x-python",
   "name": "python",
   "nbconvert_exporter": "python",
   "pygments_lexer": "ipython3",
   "version": "3.8.5"
  },
  "orig_nbformat": 2
 },
 "nbformat": 4,
 "nbformat_minor": 2
}