{
 "cells": [
  {
   "cell_type": "markdown",
   "metadata": {},
   "source": [
    "### Prompt:\n",
    "A soldier wants to buy w bananas in the shop. He has to pay k dollars for the first banana, 2k dollars for the second one and so on (in other words, he has to pay i·k dollars for the i-th banana).\n",
    "\n",
    "He has n dollars. How many dollars does he have to borrow from his friend soldier to buy w bananas?\n",
    "\n",
    "### Input:\n",
    "The first line contains three positive integers k, n, w (1  ≤  k, w  ≤  1000, 0 ≤ n ≤ 109), the cost of the first banana, initial number of dollars the soldier has and number of bananas he wants.\n",
    "\n",
    "### Output:\n",
    "Output one integer — the amount of dollars that the soldier must borrow from his friend. If he doesn't have to borrow money, output 0."
   ]
  },
  {
   "cell_type": "code",
   "execution_count": 2,
   "metadata": {},
   "outputs": [
    {
     "name": "stdout",
     "output_type": "stream",
     "text": [
      "13\n"
     ]
    }
   ],
   "source": [
    "def barrow_money(w,n,k):\n",
    "    w_array = []\n",
    "\n",
    "    for i in range(1, w+1):\n",
    "        w_array.append(i)\n",
    "\n",
    "    total = sum(w_array*k)\n",
    "    loan = total-n\n",
    "    \n",
    "    if loan < 0:\n",
    "        loan = 0\n",
    "\n",
    "    return loan\n",
    "\n",
    "print(barrow_money(w=4,n=17,k=3))"
   ]
  },
  {
   "cell_type": "markdown",
   "metadata": {},
   "source": [
    "Other way:"
   ]
  },
  {
   "cell_type": "code",
   "execution_count": 5,
   "metadata": {},
   "outputs": [
    {
     "name": "stdout",
     "output_type": "stream",
     "text": [
      "13\n",
      "None\n"
     ]
    }
   ],
   "source": [
    "def barrow_money(w, n, k):\n",
    "    cost = 0\n",
    "    \n",
    "    for i in range(1, w+1):\n",
    "        cost = cost + (i * k)\n",
    "\n",
    "    if cost < n:\n",
    "        loan = 0\n",
    "    else:\n",
    "        loan = cost - n\n",
    "\n",
    "    return loan\n",
    "\n",
    "\n",
    "print(print(barrow_money(w=4, n=17, k=3)))\n"
   ]
  }
 ],
 "metadata": {
  "kernelspec": {
   "display_name": "Python 3.8.9 64-bit ('python@3.8')",
   "name": "python389jvsc74a57bd01ee38ef4a5a9feb55287fd749643f13d043cb0a7addaab2a9c224cbe137c0062"
  },
  "language_info": {
   "codemirror_mode": {
    "name": "ipython",
    "version": 3
   },
   "file_extension": ".py",
   "mimetype": "text/x-python",
   "name": "python",
   "nbconvert_exporter": "python",
   "pygments_lexer": "ipython3",
   "version": "3.8.9"
  },
  "metadata": {
   "interpreter": {
    "hash": "1ee38ef4a5a9feb55287fd749643f13d043cb0a7addaab2a9c224cbe137c0062"
   }
  },
  "orig_nbformat": 2
 },
 "nbformat": 4,
 "nbformat_minor": 2
}